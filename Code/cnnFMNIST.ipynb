{
  "cells": [
    {
      "cell_type": "code",
      "execution_count": 1,
      "metadata": {
        "id": "A_lMkac_57DM",
        "colab": {
          "base_uri": "https://localhost:8080/"
        },
        "outputId": "f2ddf40a-1288-4c6c-ca9b-80bd7dd1553a"
      },
      "outputs": [
        {
          "output_type": "stream",
          "name": "stdout", 
          "text": [
            "Collecting torchmetrics\n",
            "  Downloading torchmetrics-1.0.3-py3-none-any.whl (731 kB)\n",
            "\u001b[?25l     \u001b[90m━━━━━━━━━━━━━━━━━━━━━━━━━━━━━━━━━━━━━━━━\u001b[0m \u001b[32m0.0/731.6 kB\u001b[0m \u001b[31m?\u001b[0m eta \u001b[36m-:--:--\u001b[0m\r\u001b[2K     \u001b[91m━━━━━━━━\u001b[0m\u001b[90m╺\u001b[0m\u001b[90m━━━━━━━━━━━━━━━━━━━━━━━━━━━━━━\u001b[0m \u001b[32m153.6/731.6 kB\u001b[0m \u001b[31m4.3 MB/s\u001b[0m eta \u001b[36m0:00:01\u001b[0m\r\u001b[2K     \u001b[91m━━━━━━━━━━━━━━━━━━━━━━━━━━━\u001b[0m\u001b[91m╸\u001b[0m\u001b[90m━━━━━━━━━━━\u001b[0m \u001b[32m522.2/731.6 kB\u001b[0m \u001b[31m7.5 MB/s\u001b[0m eta \u001b[36m0:00:01\u001b[0m\r\u001b[2K     \u001b[90m━━━━━━━━━━━━━━━━━━━━━━━━━━━━━━━━━━━━━━━\u001b[0m \u001b[32m731.6/731.6 kB\u001b[0m \u001b[31m7.7 MB/s\u001b[0m eta \u001b[36m0:00:00\u001b[0m\n",
            "\u001b[?25hRequirement already satisfied: numpy>1.20.0 in /usr/local/lib/python3.10/dist-packages (from torchmetrics) (1.23.5)\n",
            "Requirement already satisfied: torch>=1.8.1 in /usr/local/lib/python3.10/dist-packages (from torchmetrics) (2.0.1+cu118)\n",
            "Requirement already satisfied: packaging in /usr/local/lib/python3.10/dist-packages (from torchmetrics) (23.1)\n",
            "Collecting lightning-utilities>=0.7.0 (from torchmetrics)\n",
            "  Downloading lightning_utilities-0.9.0-py3-none-any.whl (23 kB)\n",
            "Requirement already satisfied: typing-extensions in /usr/local/lib/python3.10/dist-packages (from lightning-utilities>=0.7.0->torchmetrics) (4.7.1)\n",
            "Requirement already satisfied: filelock in /usr/local/lib/python3.10/dist-packages (from torch>=1.8.1->torchmetrics) (3.12.2)\n",
            "Requirement already satisfied: sympy in /usr/local/lib/python3.10/dist-packages (from torch>=1.8.1->torchmetrics) (1.12)\n",
            "Requirement already satisfied: networkx in /usr/local/lib/python3.10/dist-packages (from torch>=1.8.1->torchmetrics) (3.1)\n",
            "Requirement already satisfied: jinja2 in /usr/local/lib/python3.10/dist-packages (from torch>=1.8.1->torchmetrics) (3.1.2)\n",
            "Requirement already satisfied: triton==2.0.0 in /usr/local/lib/python3.10/dist-packages (from torch>=1.8.1->torchmetrics) (2.0.0)\n",
            "Requirement already satisfied: cmake in /usr/local/lib/python3.10/dist-packages (from triton==2.0.0->torch>=1.8.1->torchmetrics) (3.27.1)\n",
            "Requirement already satisfied: lit in /usr/local/lib/python3.10/dist-packages (from triton==2.0.0->torch>=1.8.1->torchmetrics) (16.0.6)\n",
            "Requirement already satisfied: MarkupSafe>=2.0 in /usr/local/lib/python3.10/dist-packages (from jinja2->torch>=1.8.1->torchmetrics) (2.1.3)\n",
            "Requirement already satisfied: mpmath>=0.19 in /usr/local/lib/python3.10/dist-packages (from sympy->torch>=1.8.1->torchmetrics) (1.3.0)\n",
            "Installing collected packages: lightning-utilities, torchmetrics\n",
            "Successfully installed lightning-utilities-0.9.0 torchmetrics-1.0.3\n"
          ]
        }
      ],
      "source": [
        "!pip install torchmetrics\n",
        "import torch\n",
        "import random\n",
        "from tqdm.notebook import tqdm\n",
        "from torch import nn\n",
        "from timeit import default_timer as timer\n",
        "from torchmetrics import Accuracy\n",
        "import torchvision\n",
        "from torchvision import datasets\n",
        "from torchvision.transforms import ToTensor\n",
        "import matplotlib.pyplot as plt\n",
        "from torch.utils.data import DataLoader\n",
        "from torch.nn.modules.pooling import MaxPool2d\n",
        "from torch.nn.modules import padding\n",
        "from torch.nn.modules.conv import Conv2d\n",
        "device = \"cuda\" if torch.cuda.is_available() else \"cpu\"\n",
        "import numpy as np"
      ]
    },
    {
      "cell_type": "markdown",
      "metadata": {
        "id": "MJHdKdUb8p3X"
      },
      "source": [
        "Getting the dataset\n"
      ]
    },
    {
      "cell_type": "code",
      "execution_count": 2,
      "metadata": {
        "id": "aoHx7HZk7H7G",
        "colab": {
          "base_uri": "https://localhost:8080/"
        },
        "outputId": "079b1d42-59f9-4cad-fe5a-91184a573c9b"
      },
      "outputs": [
        {
          "output_type": "stream",
          "name": "stdout",
          "text": [
            "Downloading http://fashion-mnist.s3-website.eu-central-1.amazonaws.com/train-images-idx3-ubyte.gz\n",
            "Downloading http://fashion-mnist.s3-website.eu-central-1.amazonaws.com/train-images-idx3-ubyte.gz to data/FashionMNIST/raw/train-images-idx3-ubyte.gz\n"
          ]
        },
        {
          "output_type": "stream",
          "name": "stderr",
          "text": [
            "100%|██████████| 26421880/26421880 [00:02<00:00, 12596851.94it/s]\n"
          ]
        },
        {
          "output_type": "stream",
          "name": "stdout",
          "text": [
            "Extracting data/FashionMNIST/raw/train-images-idx3-ubyte.gz to data/FashionMNIST/raw\n",
            "\n",
            "Downloading http://fashion-mnist.s3-website.eu-central-1.amazonaws.com/train-labels-idx1-ubyte.gz\n",
            "Downloading http://fashion-mnist.s3-website.eu-central-1.amazonaws.com/train-labels-idx1-ubyte.gz to data/FashionMNIST/raw/train-labels-idx1-ubyte.gz\n"
          ]
        },
        {
          "output_type": "stream",
          "name": "stderr",
          "text": [
            "100%|██████████| 29515/29515 [00:00<00:00, 210167.72it/s]\n"
          ]
        },
        {
          "output_type": "stream",
          "name": "stdout",
          "text": [
            "Extracting data/FashionMNIST/raw/train-labels-idx1-ubyte.gz to data/FashionMNIST/raw\n",
            "\n",
            "Downloading http://fashion-mnist.s3-website.eu-central-1.amazonaws.com/t10k-images-idx3-ubyte.gz\n",
            "Downloading http://fashion-mnist.s3-website.eu-central-1.amazonaws.com/t10k-images-idx3-ubyte.gz to data/FashionMNIST/raw/t10k-images-idx3-ubyte.gz\n"
          ]
        },
        {
          "output_type": "stream",
          "name": "stderr",
          "text": [
            "100%|██████████| 4422102/4422102 [00:01<00:00, 3945500.52it/s]\n"
          ]
        },
        {
          "output_type": "stream",
          "name": "stdout",
          "text": [
            "Extracting data/FashionMNIST/raw/t10k-images-idx3-ubyte.gz to data/FashionMNIST/raw\n",
            "\n",
            "Downloading http://fashion-mnist.s3-website.eu-central-1.amazonaws.com/t10k-labels-idx1-ubyte.gz\n",
            "Downloading http://fashion-mnist.s3-website.eu-central-1.amazonaws.com/t10k-labels-idx1-ubyte.gz to data/FashionMNIST/raw/t10k-labels-idx1-ubyte.gz\n"
          ]
        },
        {
          "output_type": "stream",
          "name": "stderr",
          "text": [
            "100%|██████████| 5148/5148 [00:00<00:00, 21399679.87it/s]"
          ]
        },
        {
          "output_type": "stream",
          "name": "stdout",
          "text": [
            "Extracting data/FashionMNIST/raw/t10k-labels-idx1-ubyte.gz to data/FashionMNIST/raw\n",
            "\n"
          ]
        },
        {
          "output_type": "stream",
          "name": "stderr",
          "text": [
            "\n"
          ]
        }
      ],
      "source": [
        "train_data = datasets.FashionMNIST(root = 'data', train = True, download = True, transform = ToTensor(), target_transform = None )\n",
        "test_data = datasets.FashionMNIST(root = 'data' , train = False , download = True, transform= ToTensor(), target_transform = None )\n",
        "classes_names = train_data.classes"
      ]
    },
    {
      "cell_type": "markdown",
      "metadata": {
        "id": "Sr9nInAE9coL"
      },
      "source": [
        "Seeing a random images"
      ]
    },
    {
      "cell_type": "code",
      "execution_count": 3,
      "metadata": {
        "colab": {
          "base_uri": "https://localhost:8080/",
          "height": 598
        },
        "id": "WeB59cr9_FCq",
        "outputId": "d498efd9-bb46-44e1-e006-6a05406dfc67"
      },
      "outputs": [
        {
          "output_type": "display_data",
          "data": {
            "text/plain": [
              "<Figure size 700x700 with 16 Axes>"
            ],
            "image/png": "[encoded data removed]"
          },
          "metadata": {}
        }
      ],
      "source": [
        "\n",
        "fig = plt.figure(figsize=(7,7) )\n",
        "for i in range(1,17,1):\n",
        "    random_idx = torch.randint(0, len(train_data), (1,) ).item()\n",
        "    img, label = train_data[random_idx]\n",
        "    fig.add_subplot(4,4,i)\n",
        "    plt.imshow(img.squeeze(), cmap = 'gray')\n",
        "    plt.title( classes_names[label] )\n",
        "    plt.axis(False)"
      ]
    },
    {
      "cell_type": "markdown",
      "metadata": {
        "id": "l-8Ik0PWDS99"
      },
      "source": [
        "Prepare DataLoader -> into Batches\n"
      ]
    },
    {
      "cell_type": "code",
      "execution_count": 4,
      "metadata": {
        "colab": {
          "base_uri": "https://localhost:8080/"
        },
        "id": "dIGqtEFHDFjG",
        "outputId": "38cf6b75-ff44-42d3-c20e-53f64c2127c3"
      },
      "outputs": [
        {
          "output_type": "execute_result",
          "data": {
            "text/plain": [
              "(torch.Size([32, 1, 28, 28]), torch.Size([32]))"
            ]
          },
          "metadata": {},
          "execution_count": 4
        }
      ],
      "source": [
        "torch.manual_seed(40)\n",
        "\n",
        "\n",
        "train_dataloader = DataLoader(train_data, batch_size = 32, shuffle = True)\n",
        "test_dataloader = DataLoader(test_data, batch_size= 32 , shuffle = False)\n",
        "train_features_batch, train_labels_batch = next(iter(train_dataloader))\n",
        "train_features_batch.shape, train_labels_batch.shape"
      ]
    },
    {
      "cell_type": "code",
      "execution_count": 5,
      "metadata": {
        "id": "ZGRM3UO2LDGq"
      },
      "outputs": [],
      "source": [
        "torch.manual_seed(40)\n",
        "\n",
        "class Fashion_MNIST(nn.Module):\n",
        "    def __init__(self, inp, hidden_units, oup):\n",
        "        super().__init__()\n",
        "\n",
        "        self.block1 = nn.Sequential(\n",
        "            nn.Conv2d(in_channels= inp, out_channels= hidden_units, kernel_size=3 ,stride =1,padding=1),\n",
        "            nn.ReLU(),\n",
        "            nn.Conv2d(in_channels= hidden_units, out_channels= hidden_units, kernel_size=3, padding=1, stride = 1 ),\n",
        "            nn.ReLU(),\n",
        "            nn.MaxPool2d(kernel_size=2,stride=2)\n",
        "            )\n",
        "\n",
        "        self.block2 =nn.Sequential(\n",
        "            nn.Conv2d(in_channels= hidden_units, out_channels=hidden_units, kernel_size=3, stride = 1, padding = 1),\n",
        "            nn.ReLU(),\n",
        "            nn.Conv2d(in_channels= hidden_units, out_channels=hidden_units, kernel_size=3, stride = 1, padding = 1),\n",
        "            nn.ReLU(),\n",
        "            nn.MaxPool2d(kernel_size=2,stride=2)\n",
        "             )\n",
        "\n",
        "        self.classifier= nn.Sequential(\n",
        "            nn.Flatten(),\n",
        "            nn.Linear(in_features=hidden_units * 49 , out_features=oup)\n",
        "            )\n",
        "\n",
        "    def forward(self, x):\n",
        "        x = self.block1(x)\n",
        "        x = self.block2(x)\n",
        "        x = self.classifier(x)\n",
        "        return x\n",
        "\n",
        "\n"
      ]
    },
    {
      "cell_type": "code",
      "execution_count": 6,
      "metadata": {
        "id": "n8Os-FtsLEhl"
      },
      "outputs": [],
      "source": [
        "torch.manual_seed(40)\n",
        "\n",
        "model0 = Fashion_MNIST(1, 256 , len(classes_names)).to(device)\n"
      ]
    },
    {
      "cell_type": "code",
      "execution_count": 7,
      "metadata": {
        "id": "AA425V1AU4OB"
      },
      "outputs": [],
      "source": [
        "torch.manual_seed(40)\n",
        "\n",
        "loss_fn = nn.CrossEntropyLoss()\n",
        "optimizer = torch.optim.SGD(params = model0.parameters(), lr = 0.01 )\n"
      ]
    },
    {
      "cell_type": "code",
      "execution_count": 8,
      "metadata": {
        "id": "TW4qfoeqXOYr"
      },
      "outputs": [],
      "source": [
        "torch.manual_seed(40)\n",
        "\n",
        "def trainStep(model, dataloader, lossfn, optimizer):\n",
        "    train_loss, train_acc = 0,0\n",
        "    accuracy = Accuracy(task=\"multiclass\", num_classes=len(classes_names)).to(device)\n",
        "    for batch, (x,y) in enumerate(dataloader):\n",
        "        x = x.to(device)\n",
        "        y = y.to(device)\n",
        "\n",
        "        y_pred = model(x)\n",
        "        loss_fn = lossfn(y_pred, y)\n",
        "        train_loss += loss_fn\n",
        "        train_acc  += accuracy(y_pred.argmax(dim =1), y)\n",
        "        optimizer.zero_grad()\n",
        "        loss_fn.backward()\n",
        "        optimizer.step()\n",
        "\n",
        "    train_loss = train_loss/ len(dataloader)\n",
        "    train_acc = train_acc/ len(dataloader)\n",
        "    print(f'Train Loss: {train_loss:.4f}  | Train Accuracy : {train_acc:.4f}')\n",
        "\n",
        "    return train_loss , train_acc\n"
      ]
    },
    {
      "cell_type": "code",
      "execution_count": 9,
      "metadata": {
        "id": "d5AH3r5lXOTe"
      },
      "outputs": [],
      "source": [
        "torch.manual_seed(40)\n",
        "\n",
        "def testStep(model, dataloader, loss_fn):\n",
        "    test_loss, test_acc = 0, 0\n",
        "    accuracy = Accuracy(task=\"multiclass\", num_classes=len(classes_names)).to(device)\n",
        "    model.eval()\n",
        "    with torch.inference_mode():\n",
        "        for x , y in dataloader:\n",
        "            x = x.to(device)\n",
        "            y = y.to(device)\n",
        "            test_pred = model(x)\n",
        "            test_loss += loss_fn(test_pred ,y )\n",
        "            test_acc  += accuracy(test_pred.argmax(dim = 1) , y)\n",
        "\n",
        "    test_loss = test_loss/ len(dataloader)\n",
        "    test_acc = test_acc/ len(dataloader)\n",
        "\n",
        "\n",
        "    print(f'Test Loss: {test_loss:.4f}  | Test Accuracy : {test_acc:.4f}')\n",
        "    return test_loss, test_acc\n"
      ]
    },
    {
      "cell_type": "code",
      "execution_count": 10,
      "metadata": {
        "colab": {
          "base_uri": "https://localhost:8080/",
          "height": 1000,
          "referenced_widgets": [
            "f0555a003d1e49e8b0e1354900d4f6f1",
            "aa94c5dadae44c9c857f23e05e1b75af",
            "7e4c972de4d842c18a4789cfecfeb0b2",
            "a6e211c0d39145babf0f97652c67821a",
            "c95f6b3059e94c9dbb922225b507782c",
            "0a9cfc675ada4ba48c536177ac989c48",
            "f95fbd30866b4365adb4b4a0507fbcad",
            "ce7851eca99e481b9825d57a6e40fd4a",
            "2fcad09a3dc14067b5f5b6e2652a4750",
            "d413703d954246718c5eb574c6d5e050",
            "014d7032d6874e24b7d023405f89825c"
          ]
        },
        "id": "9SMoioMFfOrD",
        "outputId": "9c55eeec-4150-495c-cbf3-4dccedaee137"
      },
      "outputs": [
        {
          "output_type": "display_data",
          "data": {
            "text/plain": [
              "  0%|          | 0/50 [00:00<?, ?it/s]"
            ],
            "application/vnd.jupyter.widget-view+json": {
              "version_major": 2,
              "version_minor": 0,
              "model_id": "f0555a003d1e49e8b0e1354900d4f6f1"
            }
          },
          "metadata": {}
        },
        {
          "output_type": "stream",
          "name": "stdout",
          "text": [
            "\n",
            " ============= \n",
            " Epoch: 0\n",
            "\n",
            "Train Loss: 0.7076  | Train Accuracy : 0.7492\n",
            "Test Loss: 0.4489  | Test Accuracy : 0.8383\n",
            "\n",
            " ============= \n",
            " Epoch: 1\n",
            "\n",
            "Train Loss: 0.3998  | Train Accuracy : 0.8549\n",
            "Test Loss: 0.3980  | Test Accuracy : 0.8531\n",
            "\n",
            " ============= \n",
            " Epoch: 2\n",
            "\n",
            "Train Loss: 0.3420  | Train Accuracy : 0.8768\n",
            "Test Loss: 0.3503  | Test Accuracy : 0.8770\n",
            "\n",
            " ============= \n",
            " Epoch: 3\n",
            "\n",
            "Train Loss: 0.3093  | Train Accuracy : 0.8887\n",
            "Test Loss: 0.3208  | Test Accuracy : 0.8879\n",
            "\n",
            " ============= \n",
            " Epoch: 4\n",
            "\n",
            "Train Loss: 0.2866  | Train Accuracy : 0.8972\n",
            "Test Loss: 0.3082  | Test Accuracy : 0.8889\n",
            "\n",
            " ============= \n",
            " Epoch: 5\n",
            "\n",
            "Train Loss: 0.2681  | Train Accuracy : 0.9029\n",
            "Test Loss: 0.3066  | Test Accuracy : 0.8859\n",
            "\n",
            " ============= \n",
            " Epoch: 6\n",
            "\n",
            "Train Loss: 0.2532  | Train Accuracy : 0.9085\n",
            "Test Loss: 0.2842  | Test Accuracy : 0.8983\n",
            "\n",
            " ============= \n",
            " Epoch: 7\n",
            "\n",
            "Train Loss: 0.2398  | Train Accuracy : 0.9138\n",
            "Test Loss: 0.2737  | Test Accuracy : 0.9018\n",
            "\n",
            " ============= \n",
            " Epoch: 8\n",
            "\n",
            "Train Loss: 0.2293  | Train Accuracy : 0.9172\n",
            "Test Loss: 0.2623  | Test Accuracy : 0.9036\n",
            "\n",
            " ============= \n",
            " Epoch: 9\n",
            "\n",
            "Train Loss: 0.2183  | Train Accuracy : 0.9209\n",
            "Test Loss: 0.2555  | Test Accuracy : 0.9067\n",
            "\n",
            " ============= \n",
            " Epoch: 10\n",
            "\n",
            "Train Loss: 0.2098  | Train Accuracy : 0.9252\n",
            "Test Loss: 0.2467  | Test Accuracy : 0.9084\n",
            "\n",
            " ============= \n",
            " Epoch: 11\n",
            "\n",
            "Train Loss: 0.2004  | Train Accuracy : 0.9271\n",
            "Test Loss: 0.2553  | Test Accuracy : 0.9079\n",
            "\n",
            " ============= \n",
            " Epoch: 12\n",
            "\n",
            "Train Loss: 0.1927  | Train Accuracy : 0.9303\n",
            "Test Loss: 0.2578  | Test Accuracy : 0.9073\n",
            "\n",
            " ============= \n",
            " Epoch: 13\n",
            "\n",
            "Train Loss: 0.1839  | Train Accuracy : 0.9333\n",
            "Test Loss: 0.2438  | Test Accuracy : 0.9120\n",
            "\n",
            " ============= \n",
            " Epoch: 14\n",
            "\n",
            "Train Loss: 0.1762  | Train Accuracy : 0.9359\n",
            "Test Loss: 0.2394  | Test Accuracy : 0.9141\n",
            "\n",
            " ============= \n",
            " Epoch: 15\n",
            "\n",
            "Train Loss: 0.1701  | Train Accuracy : 0.9385\n",
            "Test Loss: 0.2423  | Test Accuracy : 0.9143\n",
            "\n",
            " ============= \n",
            " Epoch: 16\n",
            "\n",
            "Train Loss: 0.1629  | Train Accuracy : 0.9402\n",
            "Test Loss: 0.2315  | Test Accuracy : 0.9190\n",
            "\n",
            " ============= \n",
            " Epoch: 17\n",
            "\n",
            "Train Loss: 0.1548  | Train Accuracy : 0.9441\n",
            "Test Loss: 0.2844  | Test Accuracy : 0.9032\n",
            "\n",
            " ============= \n",
            " Epoch: 18\n",
            "\n",
            "Train Loss: 0.1478  | Train Accuracy : 0.9470\n",
            "Test Loss: 0.2451  | Test Accuracy : 0.9143\n",
            "\n",
            " ============= \n",
            " Epoch: 19\n",
            "\n",
            "Train Loss: 0.1413  | Train Accuracy : 0.9487\n",
            "Test Loss: 0.2511  | Test Accuracy : 0.9164\n",
            "\n",
            " ============= \n",
            " Epoch: 20\n",
            "\n",
            "Train Loss: 0.1343  | Train Accuracy : 0.9507\n",
            "Test Loss: 0.2358  | Test Accuracy : 0.9202\n",
            "\n",
            " ============= \n",
            " Epoch: 21\n",
            "\n",
            "Train Loss: 0.1284  | Train Accuracy : 0.9535\n",
            "Test Loss: 0.2429  | Test Accuracy : 0.9168\n",
            "\n",
            " ============= \n",
            " Epoch: 22\n",
            "\n",
            "Train Loss: 0.1229  | Train Accuracy : 0.9553\n",
            "Test Loss: 0.2512  | Test Accuracy : 0.9157\n",
            "\n",
            " ============= \n",
            " Epoch: 23\n",
            "\n",
            "Train Loss: 0.1162  | Train Accuracy : 0.9577\n",
            "Test Loss: 0.2472  | Test Accuracy : 0.9170\n",
            "\n",
            " ============= \n",
            " Epoch: 24\n",
            "\n",
            "Train Loss: 0.1099  | Train Accuracy : 0.9604\n",
            "Test Loss: 0.2414  | Test Accuracy : 0.9208\n",
            "\n",
            " ============= \n",
            " Epoch: 25\n",
            "\n",
            "Train Loss: 0.1030  | Train Accuracy : 0.9634\n",
            "Test Loss: 0.2757  | Test Accuracy : 0.9138\n",
            "\n",
            " ============= \n",
            " Epoch: 26\n",
            "\n",
            "Train Loss: 0.0993  | Train Accuracy : 0.9646\n",
            "Test Loss: 0.2471  | Test Accuracy : 0.9222\n",
            "\n",
            " ============= \n",
            " Epoch: 27\n",
            "\n",
            "Train Loss: 0.0922  | Train Accuracy : 0.9667\n",
            "Test Loss: 0.2551  | Test Accuracy : 0.9218\n",
            "\n",
            " ============= \n",
            " Epoch: 28\n",
            "\n",
            "Train Loss: 0.0863  | Train Accuracy : 0.9694\n",
            "Test Loss: 0.2570  | Test Accuracy : 0.9177\n",
            "\n",
            " ============= \n",
            " Epoch: 29\n",
            "\n",
            "Train Loss: 0.0816  | Train Accuracy : 0.9711\n",
            "Test Loss: 0.2712  | Test Accuracy : 0.9187\n",
            "\n",
            " ============= \n",
            " Epoch: 30\n",
            "\n",
            "Train Loss: 0.0743  | Train Accuracy : 0.9733\n",
            "Test Loss: 0.2738  | Test Accuracy : 0.9205\n",
            "\n",
            " ============= \n",
            " Epoch: 31\n",
            "\n",
            "Train Loss: 0.0700  | Train Accuracy : 0.9750\n",
            "Test Loss: 0.2830  | Test Accuracy : 0.9191\n",
            "\n",
            " ============= \n",
            " Epoch: 32\n",
            "\n",
            "Train Loss: 0.0658  | Train Accuracy : 0.9766\n",
            "Test Loss: 0.2884  | Test Accuracy : 0.9187\n",
            "\n",
            " ============= \n",
            " Epoch: 33\n",
            "\n",
            "Train Loss: 0.0617  | Train Accuracy : 0.9779\n",
            "Test Loss: 0.2782  | Test Accuracy : 0.9230\n",
            "\n",
            " ============= \n",
            " Epoch: 34\n",
            "\n",
            "Train Loss: 0.0565  | Train Accuracy : 0.9805\n",
            "Test Loss: 0.3010  | Test Accuracy : 0.9193\n",
            "\n",
            " ============= \n",
            " Epoch: 35\n",
            "\n",
            "Train Loss: 0.0528  | Train Accuracy : 0.9814\n",
            "Test Loss: 0.2963  | Test Accuracy : 0.9236\n",
            "\n",
            " ============= \n",
            " Epoch: 36\n",
            "\n",
            "Train Loss: 0.0484  | Train Accuracy : 0.9833\n",
            "Test Loss: 0.3034  | Test Accuracy : 0.9208\n",
            "\n",
            " ============= \n",
            " Epoch: 37\n",
            "\n",
            "Train Loss: 0.0454  | Train Accuracy : 0.9841\n",
            "Test Loss: 0.3035  | Test Accuracy : 0.9213\n",
            "\n",
            " ============= \n",
            " Epoch: 38\n",
            "\n",
            "Train Loss: 0.0401  | Train Accuracy : 0.9861\n",
            "Test Loss: 0.3351  | Test Accuracy : 0.9171\n",
            "\n",
            " ============= \n",
            " Epoch: 39\n",
            "\n",
            "Train Loss: 0.0383  | Train Accuracy : 0.9870\n",
            "Test Loss: 0.3284  | Test Accuracy : 0.9224\n",
            "\n",
            " ============= \n",
            " Epoch: 40\n",
            "\n",
            "Train Loss: 0.0338  | Train Accuracy : 0.9886\n",
            "Test Loss: 0.3422  | Test Accuracy : 0.9263\n",
            "\n",
            " ============= \n",
            " Epoch: 41\n",
            "\n",
            "Train Loss: 0.0300  | Train Accuracy : 0.9898\n",
            "Test Loss: 0.3692  | Test Accuracy : 0.9198\n",
            "\n",
            " ============= \n",
            " Epoch: 42\n",
            "\n",
            "Train Loss: 0.0293  | Train Accuracy : 0.9902\n",
            "Test Loss: 0.3647  | Test Accuracy : 0.9193\n",
            "\n",
            " ============= \n",
            " Epoch: 43\n",
            "\n",
            "Train Loss: 0.0252  | Train Accuracy : 0.9919\n",
            "Test Loss: 0.3732  | Test Accuracy : 0.9212\n",
            "\n",
            " ============= \n",
            " Epoch: 44\n",
            "\n",
            "Train Loss: 0.0232  | Train Accuracy : 0.9922\n",
            "Test Loss: 0.3837  | Test Accuracy : 0.9199\n",
            "\n",
            " ============= \n",
            " Epoch: 45\n",
            "\n",
            "Train Loss: 0.0193  | Train Accuracy : 0.9940\n",
            "Test Loss: 0.3758  | Test Accuracy : 0.9223\n",
            "\n",
            " ============= \n",
            " Epoch: 46\n",
            "\n",
            "Train Loss: 0.0180  | Train Accuracy : 0.9944\n",
            "Test Loss: 0.3891  | Test Accuracy : 0.9213\n",
            "\n",
            " ============= \n",
            " Epoch: 47\n",
            "\n",
            "Train Loss: 0.0165  | Train Accuracy : 0.9948\n",
            "Test Loss: 0.4552  | Test Accuracy : 0.9158\n",
            "\n",
            " ============= \n",
            " Epoch: 48\n",
            "\n",
            "Train Loss: 0.0130  | Train Accuracy : 0.9961\n",
            "Test Loss: 0.4184  | Test Accuracy : 0.9212\n",
            "\n",
            " ============= \n",
            " Epoch: 49\n",
            "\n",
            "Train Loss: 0.0101  | Train Accuracy : 0.9975\n",
            "Test Loss: 0.4433  | Test Accuracy : 0.9183\n",
            "==== The Total Time is: 1858.9 Sec  ======= \n"
          ]
        }
      ],
      "source": [
        "torch.manual_seed(40)\n",
        "\n",
        "trainTimeS = timer()\n",
        "epochs = 50\n",
        "ep = []\n",
        "test_loss_list = []\n",
        "test_accuracy_list = []\n",
        "\n",
        "train_loss_list = []\n",
        "train_accuracy_list = []\n",
        "\n",
        "for e in tqdm(range(epochs)):\n",
        "    print(f'\\n ============= \\n Epoch: {e}\\n')\n",
        "    tr_loss, tr_acc = trainStep(dataloader= train_dataloader, model = model0, lossfn = loss_fn,  optimizer = optimizer )\n",
        "    t , ac = testStep(dataloader= test_dataloader, model = model0, loss_fn = loss_fn)\n",
        "\n",
        "    test_loss_list.append(t.cpu().numpy().tolist())\n",
        "    test_accuracy_list.append(ac.cpu().numpy().tolist())\n",
        "\n",
        "    train_loss_list.append(tr_loss.cpu().detach().numpy().tolist())\n",
        "    train_accuracy_list.append(tr_acc.cpu().detach().numpy().tolist())\n",
        "\n",
        "    ep.append(e)\n",
        "\n",
        "\n",
        "\n",
        "TrainTimeE = timer()\n",
        "totalTime  = TrainTimeE - trainTimeS\n",
        "\n",
        "print(f'==== The Total Time is: {totalTime:.1f} Sec  ======= ')\n",
        "\n",
        "\n",
        "\n"
      ]
    },
    {
      "cell_type": "code",
      "source": [
        "torch.manual_seed(40)\n",
        "\n",
        "plt.subplot(2, 1, 1)\n",
        "plt.plot(ep, train_accuracy_list, 'brown', label='Training Accuracy')\n",
        "plt.plot(ep, test_accuracy_list, 'b', label='Test Accuracy')\n",
        "plt.title('Training and Test Accuracy')\n",
        "plt.xlabel('Epochs')\n",
        "plt.ylabel('Accuracy')\n",
        "plt.legend()\n",
        "\n",
        "plt.subplot(2, 1, 2)\n",
        "plt.plot(ep, train_loss_list, 'black', label='Training Loss')\n",
        "plt.plot(ep, test_loss_list, 'r', label='Test Loss')\n",
        "plt.title('Training and Test Loss')\n",
        "plt.xlabel('Epochs')\n",
        "plt.ylabel('Loss')\n",
        "plt.legend()\n",
        "plt.subplots_adjust(hspace=2)\n",
        "plt.gcf().set_size_inches(10, 8)\n",
        "\n",
        "plt.show()\n"
      ],
      "metadata": {
        "id": "TB-tTz_X5d9m",
        "colab": {
          "base_uri": "https://localhost:8080/",
          "height": 718
        },
        "outputId": "c5d1ea15-9d32-4f84-c1d7-e9503a9f5cf5"
      },
      "execution_count": 11,
      "outputs": [
        {
          "output_type": "display_data",
          "data": {
            "text/plain": [
              "<Figure size 1000x800 with 2 Axes>"
            ],
            "image/png": "[encoded data removed]"
          },
          "metadata": {}
        }
      ]
    },
    {
      "cell_type": "code",
      "execution_count": 12,
      "metadata": {
        "id": "veVezQyXavPc"
      },
      "outputs": [],
      "source": [
        "torch.manual_seed(40)\n",
        "\n",
        "def make_predictions(model, data):\n",
        "    pred_probs = []\n",
        "    model.eval()\n",
        "    with torch.inference_mode():\n",
        "        for sample in data:\n",
        "            # Prepare sample\n",
        "            sample = torch.unsqueeze(sample, dim=0).to(device)\n",
        "\n",
        "            # Forward pass (model outputs raw logit)\n",
        "            pred_logit = model(sample)\n",
        "\n",
        "            # Get prediction probability (logit -> prediction probability)\n",
        "            pred_prob = torch.softmax(pred_logit.squeeze(), dim=0)\n",
        "\n",
        "            # Get pred_prob off GPU for further calculations\n",
        "            pred_probs.append(pred_prob)\n",
        "\n",
        "    # Stack the pred_probs to turn list into a tensor\n",
        "    return torch.stack(pred_probs)"
      ]
    },
    {
      "cell_type": "code",
      "execution_count": 24,
      "metadata": {
        "id": "eawBIvAtamU-",
        "colab": {
          "base_uri": "https://localhost:8080/"
        },
        "outputId": "d62b7f2f-8213-4710-d679-3fcc5367d591"
      },
      "outputs": [
        {
          "output_type": "stream",
          "name": "stdout",
          "text": [
            "Test sample image shape: torch.Size([1, 28, 28])\n",
            "Test sample label: 9 (Ankle boot)\n"
          ]
        }
      ],
      "source": [
        "test_samples = []\n",
        "test_labels = []\n",
        "for sample, label in random.sample(list(test_data), k=9):\n",
        "    test_samples.append(sample)\n",
        "    test_labels.append(label)\n",
        "\n",
        "# View the first test sample shape and label\n",
        "print(f\"Test sample image shape: {test_samples[7].shape}\\nTest sample label: {test_labels[7]} ({classes_names[test_labels[7]]})\")"
      ]
    },
    {
      "cell_type": "code",
      "execution_count": 25,
      "metadata": {
        "id": "BnzIPjH8iCko",
        "colab": {
          "base_uri": "https://localhost:8080/"
        },
        "outputId": "001cafe0-597b-4cf8-aa92-2314d943c898"
      },
      "outputs": [
        {
          "output_type": "execute_result",
          "data": {
            "text/plain": [
              "tensor([7, 0, 3, 3, 3, 6, 0, 9, 4], device='cuda:0')"
            ]
          },
          "metadata": {},
          "execution_count": 25
        }
      ],
      "source": [
        "# Make predictions on test samples with model 2\n",
        "pred_probs= make_predictions(model=model0,data=test_samples)\n",
        "\n",
        "# View first two prediction probabilities list\n",
        "pred_classes = pred_probs.argmax(dim=1)\n",
        "pred_classes"
      ]
    },
    {
      "cell_type": "code",
      "execution_count": 26,
      "metadata": {
        "id": "nkasm9r7iChL",
        "colab": {
          "base_uri": "https://localhost:8080/",
          "height": 749
        },
        "outputId": "060012cb-027e-4fc4-b1b9-02e69cc5dc28"
      },
      "outputs": [
        {
          "output_type": "display_data",
          "data": {
            "text/plain": [
              "<Figure size 900x900 with 9 Axes>"
            ],
            "image/png": "[encoded data removed]"
          },
          "metadata": {}
        }
      ],
      "source": [
        "# Plot predictions\n",
        "plt.figure(figsize=(9, 9))\n",
        "nrows = 3\n",
        "ncols = 3\n",
        "for i, sample in enumerate(test_samples):\n",
        "  # Create a subplot\n",
        "  plt.subplot(nrows, ncols, i+1)\n",
        "\n",
        "  # Plot the target image\n",
        "  plt.imshow(sample.squeeze())\n",
        "\n",
        "  # Find the prediction label (in text form, e.g. \"Sandal\")\n",
        "  pred_label = classes_names[pred_classes[i]]\n",
        "\n",
        "  # Get the truth label (in text form, e.g. \"T-shirt\")\n",
        "  truth_label = classes_names[test_labels[i]]\n",
        "\n",
        "  # Create the title text of the plot\n",
        "  title_text = f\"Pred: {pred_label} | Truth: {truth_label}\"\n",
        "\n",
        "  # Check for equality and change title colour accordingly\n",
        "  if pred_label == truth_label:\n",
        "      plt.title(title_text, fontsize=10, c=\"g\") # green text if correct\n",
        "  else:\n",
        "      plt.title(title_text, fontsize=10, c=\"r\") # red text if wrong\n",
        "  plt.axis(False);"
      ]
    },
    {
      "cell_type": "code",
      "execution_count": 16,
      "metadata": {
        "id": "60F7ZeytiCbE",
        "colab": {
          "base_uri": "https://localhost:8080/",
          "height": 49,
          "referenced_widgets": [
            "ca780e5507b14862b5f29d551682d664",
            "d3795bd50b6941beac39b89158298e71",
            "dd8aa6ecdfaa4ba6a0601037dd137037",
            "069e2a4731294100b3c92bd0154d8bae",
            "d1159540ced74dd597d62f9bcd68fc55",
            "fef4557eeea8421986c6806635e99449",
            "fb253518ead147ff876f8fc339327451",
            "88800a379ba640ef997c8b96ef4b9854",
            "edeec9d6c9be4458a1cea8b72a78f99c",
            "cccf1b8438b24816ac68794edcd8ff36",
            "86dd487697b7496aae15f9dd56d102bb"
          ]
        },
        "outputId": "3c448bf2-0949-462e-d675-5fc1a484044c"
      },
      "outputs": [
        {
          "output_type": "display_data",
          "data": {
            "text/plain": [
              "  0%|          | 0/313 [00:00<?, ?it/s]"
            ],
            "application/vnd.jupyter.widget-view+json": {
              "version_major": 2,
              "version_minor": 0,
              "model_id": "ca780e5507b14862b5f29d551682d664"
            }
          },
          "metadata": {}
        }
      ],
      "source": [
        "# Import tqdm for progress bar\n",
        "\n",
        "# 1. Make predictions with trained model\n",
        "y_preds = []\n",
        "model0.eval()\n",
        "with torch.inference_mode():\n",
        "  for X, y in tqdm(test_dataloader):\n",
        "    # Send data and targets to target device\n",
        "    # Do the forward pass\n",
        "    y_logit = model0(X.to(device)).to(device)\n",
        "    # Turn predictions from logits -> prediction probabilities -> predictions labels\n",
        "    y_pred = torch.softmax(y_logit, dim=1).argmax(dim=1)\n",
        "    # Put predictions on CPU for evaluation\n",
        "    y_preds.append(y_pred.cpu())\n",
        "# Concatenate list of predictions into a tensor\n",
        "y_pred_tensor = torch.cat(y_preds)"
      ]
    },
    {
      "cell_type": "code",
      "execution_count": 17,
      "metadata": {
        "id": "yi2NVG_RiCYk",
        "colab": {
          "base_uri": "https://localhost:8080/"
        },
        "outputId": "17cd7266-66ab-467d-9ad6-3fd8bbbd573c"
      },
      "outputs": [
        {
          "output_type": "execute_result",
          "data": {
            "text/plain": [
              "10000"
            ]
          },
          "metadata": {},
          "execution_count": 17
        }
      ],
      "source": [
        "len(y_pred_tensor)\n"
      ]
    },
    {
      "cell_type": "code",
      "execution_count": 18,
      "metadata": {
        "id": "_vG_AcFJiCVj",
        "colab": {
          "base_uri": "https://localhost:8080/",
          "height": 667
        },
        "outputId": "5595d030-e128-4903-9b97-9ef60190260a"
      },
      "outputs": [
        {
          "output_type": "display_data",
          "data": {
            "text/plain": [
              "<Figure size 1000x700 with 1 Axes>"
            ],
            "image/png": "[encoded data removed]"
          },
          "metadata": {}
        }
      ],
      "source": [
        "from torchmetrics import ConfusionMatrix\n",
        "from mlxtend.plotting import plot_confusion_matrix\n",
        "\n",
        "# 2. Setup confusion matrix instance and compare predictions to targets\n",
        "confmat = ConfusionMatrix(num_classes=len(classes_names), task='multiclass')\n",
        "confmat_tensor = confmat(preds=y_pred_tensor,\n",
        "                         target=test_data.targets)\n",
        "\n",
        "# 3. Plot the confusion matrix\n",
        "fig, ax = plot_confusion_matrix(\n",
        "    conf_mat=confmat_tensor.numpy(), # matplotlib likes working with NumPy\n",
        "    class_names=classes_names, # turn the row and column labels into class names\n",
        "    figsize=(10, 7)\n",
        ");"
      ]
    },
    {
      "cell_type": "code",
      "execution_count": 19,
      "metadata": {
        "id": "3HwbL5zIctL9"
      },
      "outputs": [],
      "source": [
        "# Specify a path\n",
        "PATH = \"state_dict_model.pt\"\n",
        "\n",
        "# Save\n",
        "torch.save(model0.state_dict(), PATH)\n",
        "\n",
        "# Load\n",
        "\n",
        "\n",
        "#model = Fashion_MNIST(inp=1, hidden_units=20, oup=len(classes_names))\n",
        "#model.load_state_dict(torch.load(PATH))\n",
        "#model.eval()\n",
        "#model.state_dict()\n"
      ]
    },
    {
      "cell_type": "code",
      "execution_count": 28,
      "metadata": {
        "id": "DevgUCsigC2O",
        "colab": {
          "base_uri": "https://localhost:8080/",
          "height": 175
        },
        "outputId": "8e109b28-7804-4901-b850-3c969f32e1c6"
      },
      "outputs": [
        {
          "output_type": "error",
          "ename": "NameError",
          "evalue": "ignored",
          "traceback": [
            "\u001b[0;31m---------------------------------------------------------------------------\u001b[0m",
            "\u001b[0;31mNameError\u001b[0m                                 Traceback (most recent call last)",
            "\u001b[0;32m<ipython-input-28-078ec89cc48a>\u001b[0m in \u001b[0;36m<cell line: 1>\u001b[0;34m()\u001b[0m\n\u001b[0;32m----> 1\u001b[0;31m \u001b[0mprint\u001b[0m\u001b[0;34m(\u001b[0m\u001b[0mpython\u001b[0m\u001b[0;34m.\u001b[0m\u001b[0m__version__\u001b[0m\u001b[0;34m)\u001b[0m\u001b[0;34m\u001b[0m\u001b[0;34m\u001b[0m\u001b[0m\n\u001b[0m",
            "\u001b[0;31mNameError\u001b[0m: name 'python' is not defined"
          ]
        }
      ],
      "source": [
        "print(python.__version__)\n"
      ]
    },
    {
      "cell_type": "code",
      "source": [],
      "metadata": {
        "id": "5pyAzCwCUP3u"
      },
      "execution_count": 19,
      "outputs": []
    }
  ],
  "metadata": {
    "accelerator": "GPU",
    "colab": {
      "provenance": [],
      "gpuType": "T4"
    },
    "kernelspec": {
      "display_name": "Python 3",
      "name": "python3"
    },
    "language_info": {
      "name": "python"
    },
    "widgets": {
      "application/vnd.jupyter.widget-state+json": {
        "f0555a003d1e49e8b0e1354900d4f6f1": {
          "model_module": "@jupyter-widgets/controls",
          "model_name": "HBoxModel",
          "model_module_version": "1.5.0",
          "state": {
            "_dom_classes": [],
            "_model_module": "@jupyter-widgets/controls",
            "_model_module_version": "1.5.0",
            "_model_name": "HBoxModel",
            "_view_count": null,
            "_view_module": "@jupyter-widgets/controls",
            "_view_module_version": "1.5.0",
            "_view_name": "HBoxView",
            "box_style": "",
            "children": [
              "IPY_MODEL_aa94c5dadae44c9c857f23e05e1b75af",
              "IPY_MODEL_7e4c972de4d842c18a4789cfecfeb0b2",
              "IPY_MODEL_a6e211c0d39145babf0f97652c67821a"
            ],
            "layout": "IPY_MODEL_c95f6b3059e94c9dbb922225b507782c"
          }
        },
        "aa94c5dadae44c9c857f23e05e1b75af": {
          "model_module": "@jupyter-widgets/controls",
          "model_name": "HTMLModel",
          "model_module_version": "1.5.0",
          "state": {
            "_dom_classes": [],
            "_model_module": "@jupyter-widgets/controls",
            "_model_module_version": "1.5.0",
            "_model_name": "HTMLModel",
            "_view_count": null,
            "_view_module": "@jupyter-widgets/controls",
            "_view_module_version": "1.5.0",
            "_view_name": "HTMLView",
            "description": "",
            "description_tooltip": null,
            "layout": "IPY_MODEL_0a9cfc675ada4ba48c536177ac989c48",
            "placeholder": "​",
            "style": "IPY_MODEL_f95fbd30866b4365adb4b4a0507fbcad",
            "value": "100%"
          }
        },
        "7e4c972de4d842c18a4789cfecfeb0b2": {
          "model_module": "@jupyter-widgets/controls",
          "model_name": "FloatProgressModel",
          "model_module_version": "1.5.0",
          "state": {
            "_dom_classes": [],
            "_model_module": "@jupyter-widgets/controls",
            "_model_module_version": "1.5.0",
            "_model_name": "FloatProgressModel",
            "_view_count": null,
            "_view_module": "@jupyter-widgets/controls",
            "_view_module_version": "1.5.0",
            "_view_name": "ProgressView",
            "bar_style": "success",
            "description": "",
            "description_tooltip": null,
            "layout": "IPY_MODEL_ce7851eca99e481b9825d57a6e40fd4a",
            "max": 50,
            "min": 0,
            "orientation": "horizontal",
            "style": "IPY_MODEL_2fcad09a3dc14067b5f5b6e2652a4750",
            "value": 50
          }
        },
        "a6e211c0d39145babf0f97652c67821a": {
          "model_module": "@jupyter-widgets/controls",
          "model_name": "HTMLModel",
          "model_module_version": "1.5.0",
          "state": {
            "_dom_classes": [],
            "_model_module": "@jupyter-widgets/controls",
            "_model_module_version": "1.5.0",
            "_model_name": "HTMLModel",
            "_view_count": null,
            "_view_module": "@jupyter-widgets/controls",
            "_view_module_version": "1.5.0",
            "_view_name": "HTMLView",
            "description": "",
            "description_tooltip": null,
            "layout": "IPY_MODEL_d413703d954246718c5eb574c6d5e050",
            "placeholder": "​",
            "style": "IPY_MODEL_014d7032d6874e24b7d023405f89825c",
            "value": " 50/50 [30:58&lt;00:00, 36.97s/it]"
          }
        },
        "c95f6b3059e94c9dbb922225b507782c": {
          "model_module": "@jupyter-widgets/base",
          "model_name": "LayoutModel",
          "model_module_version": "1.2.0",
          "state": {
            "_model_module": "@jupyter-widgets/base",
            "_model_module_version": "1.2.0",
            "_model_name": "LayoutModel",
            "_view_count": null,
            "_view_module": "@jupyter-widgets/base",
            "_view_module_version": "1.2.0",
            "_view_name": "LayoutView",
            "align_content": null,
            "align_items": null,
            "align_self": null,
            "border": null,
            "bottom": null,
            "display": null,
            "flex": null,
            "flex_flow": null,
            "grid_area": null,
            "grid_auto_columns": null,
            "grid_auto_flow": null,
            "grid_auto_rows": null,
            "grid_column": null,
            "grid_gap": null,
            "grid_row": null,
            "grid_template_areas": null,
            "grid_template_columns": null,
            "grid_template_rows": null,
            "height": null,
            "justify_content": null,
            "justify_items": null,
            "left": null,
            "margin": null,
            "max_height": null,
            "max_width": null,
            "min_height": null,
            "min_width": null,
            "object_fit": null,
            "object_position": null,
            "order": null,
            "overflow": null,
            "overflow_x": null,
            "overflow_y": null,
            "padding": null,
            "right": null,
            "top": null,
            "visibility": null,
            "width": null
          }
        },
        "0a9cfc675ada4ba48c536177ac989c48": {
          "model_module": "@jupyter-widgets/base",
          "model_name": "LayoutModel",
          "model_module_version": "1.2.0",
          "state": {
            "_model_module": "@jupyter-widgets/base",
            "_model_module_version": "1.2.0",
            "_model_name": "LayoutModel",
            "_view_count": null,
            "_view_module": "@jupyter-widgets/base",
            "_view_module_version": "1.2.0",
            "_view_name": "LayoutView",
            "align_content": null,
            "align_items": null,
            "align_self": null,
            "border": null,
            "bottom": null,
            "display": null,
            "flex": null,
            "flex_flow": null,
            "grid_area": null,
            "grid_auto_columns": null,
            "grid_auto_flow": null,
            "grid_auto_rows": null,
            "grid_column": null,
            "grid_gap": null,
            "grid_row": null,
            "grid_template_areas": null,
            "grid_template_columns": null,
            "grid_template_rows": null,
            "height": null,
            "justify_content": null,
            "justify_items": null,
            "left": null,
            "margin": null,
            "max_height": null,
            "max_width": null,
            "min_height": null,
            "min_width": null,
            "object_fit": null,
            "object_position": null,
            "order": null,
            "overflow": null,
            "overflow_x": null,
            "overflow_y": null,
            "padding": null,
            "right": null,
            "top": null,
            "visibility": null,
            "width": null
          }
        },
        "f95fbd30866b4365adb4b4a0507fbcad": {
          "model_module": "@jupyter-widgets/controls",
          "model_name": "DescriptionStyleModel",
          "model_module_version": "1.5.0",
          "state": {
            "_model_module": "@jupyter-widgets/controls",
            "_model_module_version": "1.5.0",
            "_model_name": "DescriptionStyleModel",
            "_view_count": null,
            "_view_module": "@jupyter-widgets/base",
            "_view_module_version": "1.2.0",
            "_view_name": "StyleView",
            "description_width": ""
          }
        },
        "ce7851eca99e481b9825d57a6e40fd4a": {
          "model_module": "@jupyter-widgets/base",
          "model_name": "LayoutModel",
          "model_module_version": "1.2.0",
          "state": {
            "_model_module": "@jupyter-widgets/base",
            "_model_module_version": "1.2.0",
            "_model_name": "LayoutModel",
            "_view_count": null,
            "_view_module": "@jupyter-widgets/base",
            "_view_module_version": "1.2.0",
            "_view_name": "LayoutView",
            "align_content": null,
            "align_items": null,
            "align_self": null,
            "border": null,
            "bottom": null,
            "display": null,
            "flex": null,
            "flex_flow": null,
            "grid_area": null,
            "grid_auto_columns": null,
            "grid_auto_flow": null,
            "grid_auto_rows": null,
            "grid_column": null,
            "grid_gap": null,
            "grid_row": null,
            "grid_template_areas": null,
            "grid_template_columns": null,
            "grid_template_rows": null,
            "height": null,
            "justify_content": null,
            "justify_items": null,
            "left": null,
            "margin": null,
            "max_height": null,
            "max_width": null,
            "min_height": null,
            "min_width": null,
            "object_fit": null,
            "object_position": null,
            "order": null,
            "overflow": null,
            "overflow_x": null,
            "overflow_y": null,
            "padding": null,
            "right": null,
            "top": null,
            "visibility": null,
            "width": null
          }
        },
        "2fcad09a3dc14067b5f5b6e2652a4750": {
          "model_module": "@jupyter-widgets/controls",
          "model_name": "ProgressStyleModel",
          "model_module_version": "1.5.0",
          "state": {
            "_model_module": "@jupyter-widgets/controls",
            "_model_module_version": "1.5.0",
            "_model_name": "ProgressStyleModel",
            "_view_count": null,
            "_view_module": "@jupyter-widgets/base",
            "_view_module_version": "1.2.0",
            "_view_name": "StyleView",
            "bar_color": null,
            "description_width": ""
          }
        },
        "d413703d954246718c5eb574c6d5e050": {
          "model_module": "@jupyter-widgets/base",
          "model_name": "LayoutModel",
          "model_module_version": "1.2.0",
          "state": {
            "_model_module": "@jupyter-widgets/base",
            "_model_module_version": "1.2.0",
            "_model_name": "LayoutModel",
            "_view_count": null,
            "_view_module": "@jupyter-widgets/base",
            "_view_module_version": "1.2.0",
            "_view_name": "LayoutView",
            "align_content": null,
            "align_items": null,
            "align_self": null,
            "border": null,
            "bottom": null,
            "display": null,
            "flex": null,
            "flex_flow": null,
            "grid_area": null,
            "grid_auto_columns": null,
            "grid_auto_flow": null,
            "grid_auto_rows": null,
            "grid_column": null,
            "grid_gap": null,
            "grid_row": null,
            "grid_template_areas": null,
            "grid_template_columns": null,
            "grid_template_rows": null,
            "height": null,
            "justify_content": null,
            "justify_items": null,
            "left": null,
            "margin": null,
            "max_height": null,
            "max_width": null,
            "min_height": null,
            "min_width": null,
            "object_fit": null,
            "object_position": null,
            "order": null,
            "overflow": null,
            "overflow_x": null,
            "overflow_y": null,
            "padding": null,
            "right": null,
            "top": null,
            "visibility": null,
            "width": null
          }
        },
        "014d7032d6874e24b7d023405f89825c": {
          "model_module": "@jupyter-widgets/controls",
          "model_name": "DescriptionStyleModel",
          "model_module_version": "1.5.0",
          "state": {
            "_model_module": "@jupyter-widgets/controls",
            "_model_module_version": "1.5.0",
            "_model_name": "DescriptionStyleModel",
            "_view_count": null,
            "_view_module": "@jupyter-widgets/base",
            "_view_module_version": "1.2.0",
            "_view_name": "StyleView",
            "description_width": ""
          }
        },
        "ca780e5507b14862b5f29d551682d664": {
          "model_module": "@jupyter-widgets/controls",
          "model_name": "HBoxModel",
          "model_module_version": "1.5.0",
          "state": {
            "_dom_classes": [],
            "_model_module": "@jupyter-widgets/controls",
            "_model_module_version": "1.5.0",
            "_model_name": "HBoxModel",
            "_view_count": null,
            "_view_module": "@jupyter-widgets/controls",
            "_view_module_version": "1.5.0",
            "_view_name": "HBoxView",
            "box_style": "",
            "children": [
              "IPY_MODEL_d3795bd50b6941beac39b89158298e71",
              "IPY_MODEL_dd8aa6ecdfaa4ba6a0601037dd137037",
              "IPY_MODEL_069e2a4731294100b3c92bd0154d8bae"
            ],
            "layout": "IPY_MODEL_d1159540ced74dd597d62f9bcd68fc55"
          }
        },
        "d3795bd50b6941beac39b89158298e71": {
          "model_module": "@jupyter-widgets/controls",
          "model_name": "HTMLModel",
          "model_module_version": "1.5.0",
          "state": {
            "_dom_classes": [],
            "_model_module": "@jupyter-widgets/controls",
            "_model_module_version": "1.5.0",
            "_model_name": "HTMLModel",
            "_view_count": null,
            "_view_module": "@jupyter-widgets/controls",
            "_view_module_version": "1.5.0",
            "_view_name": "HTMLView",
            "description": "",
            "description_tooltip": null,
            "layout": "IPY_MODEL_fef4557eeea8421986c6806635e99449",
            "placeholder": "​",
            "style": "IPY_MODEL_fb253518ead147ff876f8fc339327451",
            "value": "100%"
          }
        },
        "dd8aa6ecdfaa4ba6a0601037dd137037": {
          "model_module": "@jupyter-widgets/controls",
          "model_name": "FloatProgressModel",
          "model_module_version": "1.5.0",
          "state": {
            "_dom_classes": [],
            "_model_module": "@jupyter-widgets/controls",
            "_model_module_version": "1.5.0",
            "_model_name": "FloatProgressModel",
            "_view_count": null,
            "_view_module": "@jupyter-widgets/controls",
            "_view_module_version": "1.5.0",
            "_view_name": "ProgressView",
            "bar_style": "success",
            "description": "",
            "description_tooltip": null,
            "layout": "IPY_MODEL_88800a379ba640ef997c8b96ef4b9854",
            "max": 313,
            "min": 0,
            "orientation": "horizontal",
            "style": "IPY_MODEL_edeec9d6c9be4458a1cea8b72a78f99c",
            "value": 313
          }
        },
        "069e2a4731294100b3c92bd0154d8bae": {
          "model_module": "@jupyter-widgets/controls",
          "model_name": "HTMLModel",
          "model_module_version": "1.5.0",
          "state": {
            "_dom_classes": [],
            "_model_module": "@jupyter-widgets/controls",
            "_model_module_version": "1.5.0",
            "_model_name": "HTMLModel",
            "_view_count": null,
            "_view_module": "@jupyter-widgets/controls",
            "_view_module_version": "1.5.0",
            "_view_name": "HTMLView",
            "description": "",
            "description_tooltip": null,
            "layout": "IPY_MODEL_cccf1b8438b24816ac68794edcd8ff36",
            "placeholder": "​",
            "style": "IPY_MODEL_86dd487697b7496aae15f9dd56d102bb",
            "value": " 313/313 [00:03&lt;00:00, 94.29it/s]"
          }
        },
        "d1159540ced74dd597d62f9bcd68fc55": {
          "model_module": "@jupyter-widgets/base",
          "model_name": "LayoutModel",
          "model_module_version": "1.2.0",
          "state": {
            "_model_module": "@jupyter-widgets/base",
            "_model_module_version": "1.2.0",
            "_model_name": "LayoutModel",
            "_view_count": null,
            "_view_module": "@jupyter-widgets/base",
            "_view_module_version": "1.2.0",
            "_view_name": "LayoutView",
            "align_content": null,
            "align_items": null,
            "align_self": null,
            "border": null,
            "bottom": null,
            "display": null,
            "flex": null,
            "flex_flow": null,
            "grid_area": null,
            "grid_auto_columns": null,
            "grid_auto_flow": null,
            "grid_auto_rows": null,
            "grid_column": null,
            "grid_gap": null,
            "grid_row": null,
            "grid_template_areas": null,
            "grid_template_columns": null,
            "grid_template_rows": null,
            "height": null,
            "justify_content": null,
            "justify_items": null,
            "left": null,
            "margin": null,
            "max_height": null,
            "max_width": null,
            "min_height": null,
            "min_width": null,
            "object_fit": null,
            "object_position": null,
            "order": null,
            "overflow": null,
            "overflow_x": null,
            "overflow_y": null,
            "padding": null,
            "right": null,
            "top": null,
            "visibility": null,
            "width": null
          }
        },
        "fef4557eeea8421986c6806635e99449": {
          "model_module": "@jupyter-widgets/base",
          "model_name": "LayoutModel",
          "model_module_version": "1.2.0",
          "state": {
            "_model_module": "@jupyter-widgets/base",
            "_model_module_version": "1.2.0",
            "_model_name": "LayoutModel",
            "_view_count": null,
            "_view_module": "@jupyter-widgets/base",
            "_view_module_version": "1.2.0",
            "_view_name": "LayoutView",
            "align_content": null,
            "align_items": null,
            "align_self": null,
            "border": null,
            "bottom": null,
            "display": null,
            "flex": null,
            "flex_flow": null,
            "grid_area": null,
            "grid_auto_columns": null,
            "grid_auto_flow": null,
            "grid_auto_rows": null,
            "grid_column": null,
            "grid_gap": null,
            "grid_row": null,
            "grid_template_areas": null,
            "grid_template_columns": null,
            "grid_template_rows": null,
            "height": null,
            "justify_content": null,
            "justify_items": null,
            "left": null,
            "margin": null,
            "max_height": null,
            "max_width": null,
            "min_height": null,
            "min_width": null,
            "object_fit": null,
            "object_position": null,
            "order": null,
            "overflow": null,
            "overflow_x": null,
            "overflow_y": null,
            "padding": null,
            "right": null,
            "top": null,
            "visibility": null,
            "width": null
          }
        },
        "fb253518ead147ff876f8fc339327451": {
          "model_module": "@jupyter-widgets/controls",
          "model_name": "DescriptionStyleModel",
          "model_module_version": "1.5.0",
          "state": {
            "_model_module": "@jupyter-widgets/controls",
            "_model_module_version": "1.5.0",
            "_model_name": "DescriptionStyleModel",
            "_view_count": null,
            "_view_module": "@jupyter-widgets/base",
            "_view_module_version": "1.2.0",
            "_view_name": "StyleView",
            "description_width": ""
          }
        },
        "88800a379ba640ef997c8b96ef4b9854": {
          "model_module": "@jupyter-widgets/base",
          "model_name": "LayoutModel",
          "model_module_version": "1.2.0",
          "state": {
            "_model_module": "@jupyter-widgets/base",
            "_model_module_version": "1.2.0",
            "_model_name": "LayoutModel",
            "_view_count": null,
            "_view_module": "@jupyter-widgets/base",
            "_view_module_version": "1.2.0",
            "_view_name": "LayoutView",
            "align_content": null,
            "align_items": null,
            "align_self": null,
            "border": null,
            "bottom": null,
            "display": null,
            "flex": null,
            "flex_flow": null,
            "grid_area": null,
            "grid_auto_columns": null,
            "grid_auto_flow": null,
            "grid_auto_rows": null,
            "grid_column": null,
            "grid_gap": null,
            "grid_row": null,
            "grid_template_areas": null,
            "grid_template_columns": null,
            "grid_template_rows": null,
            "height": null,
            "justify_content": null,
            "justify_items": null,
            "left": null,
            "margin": null,
            "max_height": null,
            "max_width": null,
            "min_height": null,
            "min_width": null,
            "object_fit": null,
            "object_position": null,
            "order": null,
            "overflow": null,
            "overflow_x": null,
            "overflow_y": null,
            "padding": null,
            "right": null,
            "top": null,
            "visibility": null,
            "width": null
          }
        },
        "edeec9d6c9be4458a1cea8b72a78f99c": {
          "model_module": "@jupyter-widgets/controls",
          "model_name": "ProgressStyleModel",
          "model_module_version": "1.5.0",
          "state": {
            "_model_module": "@jupyter-widgets/controls",
            "_model_module_version": "1.5.0",
            "_model_name": "ProgressStyleModel",
            "_view_count": null,
            "_view_module": "@jupyter-widgets/base",
            "_view_module_version": "1.2.0",
            "_view_name": "StyleView",
            "bar_color": null,
            "description_width": ""
          }
        },
        "cccf1b8438b24816ac68794edcd8ff36": {
          "model_module": "@jupyter-widgets/base",
          "model_name": "LayoutModel",
          "model_module_version": "1.2.0",
          "state": {
            "_model_module": "@jupyter-widgets/base",
            "_model_module_version": "1.2.0",
            "_model_name": "LayoutModel",
            "_view_count": null,
            "_view_module": "@jupyter-widgets/base",
            "_view_module_version": "1.2.0",
            "_view_name": "LayoutView",
            "align_content": null,
            "align_items": null,
            "align_self": null,
            "border": null,
            "bottom": null,
            "display": null,
            "flex": null,
            "flex_flow": null,
            "grid_area": null,
            "grid_auto_columns": null,
            "grid_auto_flow": null,
            "grid_auto_rows": null,
            "grid_column": null,
            "grid_gap": null,
            "grid_row": null,
            "grid_template_areas": null,
            "grid_template_columns": null,
            "grid_template_rows": null,
            "height": null,
            "justify_content": null,
            "justify_items": null,
            "left": null,
            "margin": null,
            "max_height": null,
            "max_width": null,
            "min_height": null,
            "min_width": null,
            "object_fit": null,
            "object_position": null,
            "order": null,
            "overflow": null,
            "overflow_x": null,
            "overflow_y": null,
            "padding": null,
            "right": null,
            "top": null,
            "visibility": null,
            "width": null
          }
        },
        "86dd487697b7496aae15f9dd56d102bb": {
          "model_module": "@jupyter-widgets/controls",
          "model_name": "DescriptionStyleModel",
          "model_module_version": "1.5.0",
          "state": {
            "_model_module": "@jupyter-widgets/controls",
            "_model_module_version": "1.5.0",
            "_model_name": "DescriptionStyleModel",
            "_view_count": null,
            "_view_module": "@jupyter-widgets/base",
            "_view_module_version": "1.2.0",
            "_view_name": "StyleView",
            "description_width": ""
          }
        }
      }
    }
  },
  "nbformat": 4,
  "nbformat_minor": 0
}
